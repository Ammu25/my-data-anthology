{
 "cells": [
  {
   "cell_type": "markdown",
   "metadata": {},
   "source": [
    "###### Import libraries for :\n",
    "1. connecting python to PostgreSQL database\n",
    "2. data visualization\n",
    "3. creating a pdf file for all the figures"
   ]
  },
  {
   "cell_type": "code",
   "execution_count": 114,
   "metadata": {},
   "outputs": [],
   "source": [
    "import psycopg2 as pg2"
   ]
  },
  {
   "cell_type": "code",
   "execution_count": 115,
   "metadata": {},
   "outputs": [],
   "source": [
    "import matplotlib.pyplot as plt"
   ]
  },
  {
   "cell_type": "code",
   "execution_count": 116,
   "metadata": {},
   "outputs": [],
   "source": [
    "from matplotlib.backends.backend_pdf import PdfPages"
   ]
  },
  {
   "cell_type": "markdown",
   "metadata": {},
   "source": [
    "###### Establish a connection to the PostgreSQL database"
   ]
  },
  {
   "cell_type": "code",
   "execution_count": 117,
   "metadata": {},
   "outputs": [],
   "source": [
    "conn = pg2.connect(database='Data_Analyst_Portfolio',user='postgres',password='ilovesql')"
   ]
  },
  {
   "cell_type": "code",
   "execution_count": 118,
   "metadata": {},
   "outputs": [],
   "source": [
    "cur = conn.cursor()"
   ]
  },
  {
   "cell_type": "markdown",
   "metadata": {},
   "source": [
    "###### Create font dictionaries for use in bar charts"
   ]
  },
  {
   "cell_type": "code",
   "execution_count": 119,
   "metadata": {},
   "outputs": [],
   "source": [
    "font1 = {'family':'serif','color':'darkblue','size':40}\n",
    "font2 = {'family':'serif','color':'darkblue','size':35}"
   ]
  },
  {
   "cell_type": "markdown",
   "metadata": {},
   "source": [
    "### FICTION GENRE"
   ]
  },
  {
   "cell_type": "markdown",
   "metadata": {},
   "source": [
    "###### Use SQL queries for analysing and fetching data from the database"
   ]
  },
  {
   "cell_type": "code",
   "execution_count": 120,
   "metadata": {},
   "outputs": [],
   "source": [
    "cur.execute ('''\n",
    "            select book_name,\n",
    "            max(reviews)\n",
    "            from amazonbooks\n",
    "            where genre = 'Fiction' and user_rating = (select max(user_rating)\n",
    "                             from amazonbooks)\n",
    "            group by book_name \n",
    "            order by \n",
    "            max(reviews) desc\n",
    "            ''')"
   ]
  },
  {
   "cell_type": "code",
   "execution_count": 121,
   "metadata": {},
   "outputs": [],
   "source": [
    "fic_bar = cur.fetchall()"
   ]
  },
  {
   "cell_type": "markdown",
   "metadata": {},
   "source": [
    "###### Create two separate lists from the above result to plot a bar chart"
   ]
  },
  {
   "cell_type": "code",
   "execution_count": 122,
   "metadata": {},
   "outputs": [],
   "source": [
    "Name1 = []\n",
    "Review1 = []\n",
    "\n",
    "for i in fic_bar:\n",
    "    Name1.append(i[0])\n",
    "    Review1.append(i[1])\n",
    "\n",
    "Name1.reverse()\n",
    "Review1.reverse()"
   ]
  },
  {
   "cell_type": "markdown",
   "metadata": {},
   "source": [
    "## NON FICTION GENRE\n",
    "###### Repeat all of the above steps"
   ]
  },
  {
   "cell_type": "code",
   "execution_count": 123,
   "metadata": {},
   "outputs": [],
   "source": [
    "cur.execute('''\n",
    "            select book_name, max(reviews)\n",
    "            from amazonbooks\n",
    "            where genre = 'Non Fiction' and user_rating = (select max(user_rating)\n",
    "                              from amazonbooks)\n",
    "            group by book_name, author, price_in_$, year\n",
    "            order by \n",
    "            max(reviews) desc\n",
    "            ''')"
   ]
  },
  {
   "cell_type": "code",
   "execution_count": 124,
   "metadata": {},
   "outputs": [],
   "source": [
    "nonfic_bar = cur.fetchall()"
   ]
  },
  {
   "cell_type": "code",
   "execution_count": 125,
   "metadata": {},
   "outputs": [],
   "source": [
    "Name2 = []\n",
    "Review2 = []\n",
    "\n",
    "for i in nonfic_bar:\n",
    "    Name2.append(i[0])\n",
    "    Review2.append(i[1])\n",
    "       \n",
    "Name2.reverse()\n",
    "Review2.reverse()"
   ]
  },
  {
   "cell_type": "markdown",
   "metadata": {},
   "source": [
    "## The above data can be easily visualized using Power BI in Jupyter Notebook"
   ]
  },
  {
   "cell_type": "code",
   "execution_count": 126,
   "metadata": {},
   "outputs": [],
   "source": [
    "# First install powerbiclient using pip install in the command prompt\n",
    "# Import relevant modules\n",
    "\n",
    "from powerbiclient import QuickVisualize, get_dataset_config, Report\n",
    "# QuickVisualize module is used to create a Power BI file\n",
    "# Get_dataset_config module is used to load the data sets\n",
    "# Report module is used to create a report object inside the QuickVisualize object\n",
    "\n",
    "from powerbiclient.authentication import DeviceCodeLoginAuthentication \n",
    "# This module is used to authenticate my Microsoft Power BI account; it generates a secret code before I can log in to my account\n",
    "\n",
    "import pandas as pd"
   ]
  },
  {
   "cell_type": "code",
   "execution_count": 127,
   "metadata": {},
   "outputs": [],
   "source": [
    "#Create a dataframe using the required variables\n",
    "\n",
    "df_fic=pd.DataFrame(list(zip(Name1, Review1)),\n",
    "              columns=['Name of the Book - FICTION', 'User Reviews'])\n",
    "\n",
    "df_nonfic=pd.DataFrame(list(zip(Name2, Review2)),\n",
    "              columns=['Name of the Book - NONFICTION', 'User Reviews'])"
   ]
  },
  {
   "cell_type": "code",
   "execution_count": 128,
   "metadata": {},
   "outputs": [
    {
     "name": "stdout",
     "output_type": "stream",
     "text": [
      "Performing device flow authentication. Please follow the instructions below.\n",
      "To sign in, use a web browser to open the page https://microsoft.com/devicelogin and enter the code IQZBVHWQ9 to authenticate.\n",
      "\n",
      "Device flow authentication successfully completed.\n",
      "You are now logged in .\n",
      "\n",
      "The result should be passed only to trusted code in your notebook.\n"
     ]
    }
   ],
   "source": [
    "auth=DeviceCodeLoginAuthentication()"
   ]
  },
  {
   "cell_type": "code",
   "execution_count": 129,
   "metadata": {},
   "outputs": [
    {
     "data": {
      "application/vnd.jupyter.widget-view+json": {
       "model_id": "f53b9a4de2c54f1296e7745334014544",
       "version_major": 2,
       "version_minor": 0
      },
      "text/plain": [
       "QuickVisualize()"
      ]
     },
     "metadata": {},
     "output_type": "display_data"
    }
   ],
   "source": [
    "# Create a Power BI report from the above data for FICTION genre\n",
    "PBI_visualize_fic = QuickVisualize(get_dataset_config(df_fic), auth=auth)\n",
    "\n",
    "# Render the new report\n",
    "PBI_visualize_fic"
   ]
  },
  {
   "cell_type": "code",
   "execution_count": 130,
   "metadata": {},
   "outputs": [
    {
     "data": {
      "application/vnd.jupyter.widget-view+json": {
       "model_id": "8289d2e3b85e4322bddc850c7ce52cd6",
       "version_major": 2,
       "version_minor": 0
      },
      "text/plain": [
       "QuickVisualize()"
      ]
     },
     "metadata": {},
     "output_type": "display_data"
    }
   ],
   "source": [
    "# Create a Power BI report from the above data for NON-FICTION genre\n",
    "PBI_visualize_nonfic = QuickVisualize(get_dataset_config(df_nonfic), auth=auth)\n",
    "\n",
    "# Render the new report\n",
    "PBI_visualize_nonfic"
   ]
  },
  {
   "cell_type": "markdown",
   "metadata": {},
   "source": [
    "### The above results can be saved using the 'save' button and further manipulated in Power BI"
   ]
  },
  {
   "cell_type": "code",
   "execution_count": null,
   "metadata": {},
   "outputs": [],
   "source": []
  }
 ],
 "metadata": {
  "kernelspec": {
   "display_name": "Python 3",
   "language": "python",
   "name": "python3"
  },
  "language_info": {
   "codemirror_mode": {
    "name": "ipython",
    "version": 3
   },
   "file_extension": ".py",
   "mimetype": "text/x-python",
   "name": "python",
   "nbconvert_exporter": "python",
   "pygments_lexer": "ipython3",
   "version": "3.6.5"
  }
 },
 "nbformat": 4,
 "nbformat_minor": 2
}
